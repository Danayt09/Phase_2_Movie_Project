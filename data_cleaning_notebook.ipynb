{
 "cells": [
  {
   "cell_type": "markdown",
   "metadata": {},
   "source": [
    "# Cleaning the Data"
   ]
  },
  {
   "cell_type": "code",
   "execution_count": 1,
   "metadata": {},
   "outputs": [],
   "source": [
    "import pandas as pd\n",
    "import numpy as np\n",
    "import matplotlib.pyplot as plt\n",
    "%matplotlib inline\n",
    "import sqlite3\n",
    "from zipfile import ZipFile # for unzipping the db.zip file\n",
    "pd.set_option('display.max_columns', None) # show all columns when printing out dataframe"
   ]
  },
  {
   "cell_type": "markdown",
   "metadata": {},
   "source": [
    "## \"The Numbers\" Movie Budgets"
   ]
  },
  {
   "cell_type": "code",
   "execution_count": 2,
   "metadata": {},
   "outputs": [
    {
     "data": {
      "text/html": [
       "<div>\n",
       "<style scoped>\n",
       "    .dataframe tbody tr th:only-of-type {\n",
       "        vertical-align: middle;\n",
       "    }\n",
       "\n",
       "    .dataframe tbody tr th {\n",
       "        vertical-align: top;\n",
       "    }\n",
       "\n",
       "    .dataframe thead th {\n",
       "        text-align: right;\n",
       "    }\n",
       "</style>\n",
       "<table border=\"1\" class=\"dataframe\">\n",
       "  <thead>\n",
       "    <tr style=\"text-align: right;\">\n",
       "      <th></th>\n",
       "      <th>id</th>\n",
       "      <th>release_date</th>\n",
       "      <th>movie</th>\n",
       "      <th>production_budget</th>\n",
       "      <th>domestic_gross</th>\n",
       "      <th>worldwide_gross</th>\n",
       "    </tr>\n",
       "  </thead>\n",
       "  <tbody>\n",
       "    <tr>\n",
       "      <th>0</th>\n",
       "      <td>1</td>\n",
       "      <td>Dec 18, 2009</td>\n",
       "      <td>Avatar</td>\n",
       "      <td>$425,000,000</td>\n",
       "      <td>$760,507,625</td>\n",
       "      <td>$2,776,345,279</td>\n",
       "    </tr>\n",
       "    <tr>\n",
       "      <th>1</th>\n",
       "      <td>2</td>\n",
       "      <td>May 20, 2011</td>\n",
       "      <td>Pirates of the Caribbean: On Stranger Tides</td>\n",
       "      <td>$410,600,000</td>\n",
       "      <td>$241,063,875</td>\n",
       "      <td>$1,045,663,875</td>\n",
       "    </tr>\n",
       "    <tr>\n",
       "      <th>2</th>\n",
       "      <td>3</td>\n",
       "      <td>Jun 7, 2019</td>\n",
       "      <td>Dark Phoenix</td>\n",
       "      <td>$350,000,000</td>\n",
       "      <td>$42,762,350</td>\n",
       "      <td>$149,762,350</td>\n",
       "    </tr>\n",
       "    <tr>\n",
       "      <th>3</th>\n",
       "      <td>4</td>\n",
       "      <td>May 1, 2015</td>\n",
       "      <td>Avengers: Age of Ultron</td>\n",
       "      <td>$330,600,000</td>\n",
       "      <td>$459,005,868</td>\n",
       "      <td>$1,403,013,963</td>\n",
       "    </tr>\n",
       "    <tr>\n",
       "      <th>4</th>\n",
       "      <td>5</td>\n",
       "      <td>Dec 15, 2017</td>\n",
       "      <td>Star Wars Ep. VIII: The Last Jedi</td>\n",
       "      <td>$317,000,000</td>\n",
       "      <td>$620,181,382</td>\n",
       "      <td>$1,316,721,747</td>\n",
       "    </tr>\n",
       "  </tbody>\n",
       "</table>\n",
       "</div>"
      ],
      "text/plain": [
       "   id  release_date                                        movie  \\\n",
       "0   1  Dec 18, 2009                                       Avatar   \n",
       "1   2  May 20, 2011  Pirates of the Caribbean: On Stranger Tides   \n",
       "2   3   Jun 7, 2019                                 Dark Phoenix   \n",
       "3   4   May 1, 2015                      Avengers: Age of Ultron   \n",
       "4   5  Dec 15, 2017            Star Wars Ep. VIII: The Last Jedi   \n",
       "\n",
       "  production_budget domestic_gross worldwide_gross  \n",
       "0      $425,000,000   $760,507,625  $2,776,345,279  \n",
       "1      $410,600,000   $241,063,875  $1,045,663,875  \n",
       "2      $350,000,000    $42,762,350    $149,762,350  \n",
       "3      $330,600,000   $459,005,868  $1,403,013,963  \n",
       "4      $317,000,000   $620,181,382  $1,316,721,747  "
      ]
     },
     "execution_count": 2,
     "metadata": {},
     "output_type": "execute_result"
    }
   ],
   "source": [
    "tn_budgets_df = pd.read_csv('zippedData/tn.movie_budgets.csv.gz')\n",
    "tn_budgets_df.head()"
   ]
  },
  {
   "cell_type": "code",
   "execution_count": 3,
   "metadata": {},
   "outputs": [],
   "source": [
    "# remove commas and $ from the strings of numeric columns\n",
    "tn_budgets_df['production_budget'] = tn_budgets_df['production_budget'].str.replace('$', '').str.replace(',', '')\n",
    "tn_budgets_df['domestic_gross'] = tn_budgets_df['domestic_gross'].str.replace('$', '').str.replace(',', '')\n",
    "tn_budgets_df['worldwide_gross'] = tn_budgets_df['worldwide_gross'].str.replace('$', '').str.replace(',', '')"
   ]
  },
  {
   "cell_type": "code",
   "execution_count": 5,
   "metadata": {},
   "outputs": [],
   "source": [
    "# convert numeric columns to ints\n",
    "tn_budgets_df['production_budget'] = tn_budgets_df['production_budget'].astype(int)\n",
    "tn_budgets_df['domestic_gross'] = tn_budgets_df['domestic_gross'].astype(int)\n",
    "tn_budgets_df['worldwide_gross'] = tn_budgets_df['worldwide_gross'].astype(int)"
   ]
  },
  {
   "cell_type": "code",
   "execution_count": 6,
   "metadata": {},
   "outputs": [],
   "source": [
    "# create a column for the profit of every movie\n",
    "tn_budgets_df['gross_profit'] = 0\n",
    "tn_budgets_df['gross_profit'] = tn_budgets_df['worldwide_gross'] - tn_budgets_df['production_budget']"
   ]
  },
  {
   "cell_type": "code",
   "execution_count": 7,
   "metadata": {},
   "outputs": [],
   "source": [
    "# divide all budget columns by 1M to make numbers easier to work with\n",
    "tn_budgets_df['production_budget'] = round(tn_budgets_df['production_budget'] / 1000000, 3)\n",
    "tn_budgets_df['domestic_gross'] = round(tn_budgets_df['domestic_gross'] / 1000000, 3) \n",
    "tn_budgets_df['worldwide_gross'] = round(tn_budgets_df['worldwide_gross'] / 1000000, 3) \n",
    "tn_budgets_df['gross_profit'] = round(tn_budgets_df['gross_profit'] / 1000000, 3)"
   ]
  },
  {
   "cell_type": "code",
   "execution_count": 8,
   "metadata": {},
   "outputs": [],
   "source": [
    "# access to the specific year a movie was made in\n",
    "tn_budgets_df['movie_year'] = tn_budgets_df['release_date'].map(lambda x: x[-4:]).astype(int)"
   ]
  },
  {
   "cell_type": "code",
   "execution_count": 9,
   "metadata": {},
   "outputs": [],
   "source": [
    "# create a datetime column\n",
    "tn_budgets_df[\"date_time\"] = pd.to_datetime(tn_budgets_df['release_date'])"
   ]
  },
  {
   "cell_type": "code",
   "execution_count": 10,
   "metadata": {},
   "outputs": [],
   "source": [
    "# create an ROI column\n",
    "tn_budgets_df['roi'] = tn_budgets_df['gross_profit'] / tn_budgets_df['production_budget']"
   ]
  },
  {
   "cell_type": "code",
   "execution_count": 11,
   "metadata": {},
   "outputs": [],
   "source": [
    "tn_budgets_df['two_x'] = 0\n",
    "tn_budgets_df['two_x'] = tn_budgets_df['roi'].map(lambda x: 1 if x >= 1 else 0)"
   ]
  },
  {
   "cell_type": "code",
   "execution_count": 12,
   "metadata": {},
   "outputs": [
    {
     "data": {
      "text/plain": [
       "(5410, 11)"
      ]
     },
     "execution_count": 12,
     "metadata": {},
     "output_type": "execute_result"
    }
   ],
   "source": [
    "# removing data from the table for complete losses, seems to be impacted mostly by streamers or non-released movies\n",
    "tn_budgets_df = tn_budgets_df.loc[tn_budgets_df['roi'] != -1]"
   ]
  },
  {
   "cell_type": "code",
   "execution_count": 13,
   "metadata": {},
   "outputs": [],
   "source": [
    "# Creating quartile groups based on production budget\n",
    "tn_budgets_df['quartile'] = 0\n",
    "tn_budgets_df[\"quartile\"] = pd.qcut(tn_budgets_df[\"production_budget\"], q=4, labels=[\"Bottom 25\", \"25-50\", \"50-75\", \"Top 25\"])"
   ]
  },
  {
   "cell_type": "markdown",
   "metadata": {},
   "source": [
    "Actual creation of the new CSV file"
   ]
  },
  {
   "cell_type": "code",
   "execution_count": null,
   "metadata": {},
   "outputs": [],
   "source": [
    "# tn_budgets_df.to_csv(\"cleaned_budget_data.csv\", index=False)"
   ]
  },
  {
   "cell_type": "code",
   "execution_count": 15,
   "metadata": {},
   "outputs": [
    {
     "data": {
      "text/html": [
       "<div>\n",
       "<style scoped>\n",
       "    .dataframe tbody tr th:only-of-type {\n",
       "        vertical-align: middle;\n",
       "    }\n",
       "\n",
       "    .dataframe tbody tr th {\n",
       "        vertical-align: top;\n",
       "    }\n",
       "\n",
       "    .dataframe thead th {\n",
       "        text-align: right;\n",
       "    }\n",
       "</style>\n",
       "<table border=\"1\" class=\"dataframe\">\n",
       "  <thead>\n",
       "    <tr style=\"text-align: right;\">\n",
       "      <th></th>\n",
       "      <th>id</th>\n",
       "      <th>production_budget</th>\n",
       "      <th>domestic_gross</th>\n",
       "      <th>worldwide_gross</th>\n",
       "      <th>gross_profit</th>\n",
       "      <th>movie_year</th>\n",
       "      <th>roi</th>\n",
       "      <th>two_x</th>\n",
       "    </tr>\n",
       "  </thead>\n",
       "  <tbody>\n",
       "    <tr>\n",
       "      <th>count</th>\n",
       "      <td>5410.000000</td>\n",
       "      <td>5410.000000</td>\n",
       "      <td>5410.000000</td>\n",
       "      <td>5410.000000</td>\n",
       "      <td>5410.000000</td>\n",
       "      <td>5410.000000</td>\n",
       "      <td>5410.000000</td>\n",
       "      <td>5410.000000</td>\n",
       "    </tr>\n",
       "    <tr>\n",
       "      <th>mean</th>\n",
       "      <td>50.234750</td>\n",
       "      <td>33.338222</td>\n",
       "      <td>44.752602</td>\n",
       "      <td>97.778280</td>\n",
       "      <td>64.440058</td>\n",
       "      <td>2003.592421</td>\n",
       "      <td>4.133304</td>\n",
       "      <td>0.484473</td>\n",
       "    </tr>\n",
       "    <tr>\n",
       "      <th>std</th>\n",
       "      <td>28.762457</td>\n",
       "      <td>42.495577</td>\n",
       "      <td>69.628779</td>\n",
       "      <td>178.917092</td>\n",
       "      <td>149.914269</td>\n",
       "      <td>12.550054</td>\n",
       "      <td>30.517830</td>\n",
       "      <td>0.499805</td>\n",
       "    </tr>\n",
       "    <tr>\n",
       "      <th>min</th>\n",
       "      <td>1.000000</td>\n",
       "      <td>0.001000</td>\n",
       "      <td>0.000000</td>\n",
       "      <td>0.001000</td>\n",
       "      <td>-200.238000</td>\n",
       "      <td>1915.000000</td>\n",
       "      <td>-0.999889</td>\n",
       "      <td>0.000000</td>\n",
       "    </tr>\n",
       "    <tr>\n",
       "      <th>25%</th>\n",
       "      <td>25.000000</td>\n",
       "      <td>6.000000</td>\n",
       "      <td>3.209500</td>\n",
       "      <td>7.018250</td>\n",
       "      <td>-1.874750</td>\n",
       "      <td>1999.000000</td>\n",
       "      <td>-0.296339</td>\n",
       "      <td>0.000000</td>\n",
       "    </tr>\n",
       "    <tr>\n",
       "      <th>50%</th>\n",
       "      <td>50.000000</td>\n",
       "      <td>19.000000</td>\n",
       "      <td>20.347000</td>\n",
       "      <td>33.395000</td>\n",
       "      <td>11.932500</td>\n",
       "      <td>2006.000000</td>\n",
       "      <td>0.888318</td>\n",
       "      <td>0.000000</td>\n",
       "    </tr>\n",
       "    <tr>\n",
       "      <th>75%</th>\n",
       "      <td>75.000000</td>\n",
       "      <td>42.000000</td>\n",
       "      <td>55.837500</td>\n",
       "      <td>104.500750</td>\n",
       "      <td>67.424500</td>\n",
       "      <td>2012.000000</td>\n",
       "      <td>2.974420</td>\n",
       "      <td>1.000000</td>\n",
       "    </tr>\n",
       "    <tr>\n",
       "      <th>max</th>\n",
       "      <td>100.000000</td>\n",
       "      <td>425.000000</td>\n",
       "      <td>936.662000</td>\n",
       "      <td>2776.345000</td>\n",
       "      <td>2351.345000</td>\n",
       "      <td>2019.000000</td>\n",
       "      <td>1799.000000</td>\n",
       "      <td>1.000000</td>\n",
       "    </tr>\n",
       "  </tbody>\n",
       "</table>\n",
       "</div>"
      ],
      "text/plain": [
       "                id  production_budget  domestic_gross  worldwide_gross  \\\n",
       "count  5410.000000        5410.000000     5410.000000      5410.000000   \n",
       "mean     50.234750          33.338222       44.752602        97.778280   \n",
       "std      28.762457          42.495577       69.628779       178.917092   \n",
       "min       1.000000           0.001000        0.000000         0.001000   \n",
       "25%      25.000000           6.000000        3.209500         7.018250   \n",
       "50%      50.000000          19.000000       20.347000        33.395000   \n",
       "75%      75.000000          42.000000       55.837500       104.500750   \n",
       "max     100.000000         425.000000      936.662000      2776.345000   \n",
       "\n",
       "       gross_profit   movie_year          roi        two_x  \n",
       "count   5410.000000  5410.000000  5410.000000  5410.000000  \n",
       "mean      64.440058  2003.592421     4.133304     0.484473  \n",
       "std      149.914269    12.550054    30.517830     0.499805  \n",
       "min     -200.238000  1915.000000    -0.999889     0.000000  \n",
       "25%       -1.874750  1999.000000    -0.296339     0.000000  \n",
       "50%       11.932500  2006.000000     0.888318     0.000000  \n",
       "75%       67.424500  2012.000000     2.974420     1.000000  \n",
       "max     2351.345000  2019.000000  1799.000000     1.000000  "
      ]
     },
     "execution_count": 15,
     "metadata": {},
     "output_type": "execute_result"
    }
   ],
   "source": [
    "tn_budgets_df.describe()"
   ]
  },
  {
   "cell_type": "code",
   "execution_count": null,
   "metadata": {},
   "outputs": [],
   "source": []
  }
 ],
 "metadata": {
  "kernelspec": {
   "display_name": "Python (learn-env)",
   "language": "python",
   "name": "learn-env"
  },
  "language_info": {
   "codemirror_mode": {
    "name": "ipython",
    "version": 3
   },
   "file_extension": ".py",
   "mimetype": "text/x-python",
   "name": "python",
   "nbconvert_exporter": "python",
   "pygments_lexer": "ipython3",
   "version": "3.8.5"
  }
 },
 "nbformat": 4,
 "nbformat_minor": 4
}
