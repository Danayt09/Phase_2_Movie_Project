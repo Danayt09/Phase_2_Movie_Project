{
 "cells": [
  {
   "cell_type": "markdown",
   "metadata": {},
   "source": [
    "## 1.  Release time: why  Barbie and Oppenheimer released on July!? Suspicious...\n",
    "- Based on ROI what is the best time?"
   ]
  },
  {
   "cell_type": "markdown",
   "metadata": {},
   "source": [
    "##  2. Actors/ directors are important? For instance, Christopher Nolan.  \n",
    "   - analyze ratings \n",
    "   \n",
    "   \n",
    "   - gross "
   ]
  },
  {
   "cell_type": "markdown",
   "metadata": {},
   "source": [
    " # Optional : Time value of Money? "
   ]
  },
  {
   "cell_type": "markdown",
   "metadata": {},
   "source": [
    "## 3. What genres ?  revirews vs profitability "
   ]
  }
 ],
 "metadata": {
  "kernelspec": {
   "display_name": "Python 3 (ipykernel)",
   "language": "python",
   "name": "python3"
  },
  "language_info": {
   "codemirror_mode": {
    "name": "ipython",
    "version": 3
   },
   "file_extension": ".py",
   "mimetype": "text/x-python",
   "name": "python",
   "nbconvert_exporter": "python",
   "pygments_lexer": "ipython3",
   "version": "3.9.16"
  }
 },
 "nbformat": 4,
 "nbformat_minor": 4
}
